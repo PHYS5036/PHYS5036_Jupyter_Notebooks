{
 "cells": [
  {
   "cell_type": "markdown",
   "metadata": {},
   "source": [
    "# Smearing Notebook for Maestro Data Files\n",
    "\n",
    "This notebook smears .Spe data files obtained with the Maestro software for the experiments:\n",
    "- Absolute determination of source activity\n",
    "- Gamma-ray spectroscopy with a high resolution germanium detector\n",
    "\n",
    "Since everyone is provided the same data files, it is recommended that you randomly smear your data first to individualise it.\n",
    "\n",
    "For the smearing, the counts ($N$) of every bin in the spectrum are randomly smeared by their Poissonion error ($\\sqrt{N}$). The channel positions are not smeared.\n",
    "\n",
    "You should only perform the smearing **once** per data file, when you first receive your data. You should execute this smearing script for **every** single data file individually. **The smeared output files from this notebook should be used for subsequent analysis steps of the experiment.**\n",
    "\n",
    "Please take a note of the maximum and sum values in the data files before and after smearing to check that everything worked ok - see steps 13 and 14 below and note down the numbers for each file you smear.\n",
    "\n",
    "**Breakdown of the code cells in this notebook:**\n",
    "\n",
    "- Step 1: Import various program modules\n",
    "\n",
    "- Step 2: Enter input file name and extract the data. Before running this step, be sure that your input data file is uploaded to the correct folder. Either upload the file to the same folder as this notebook and put no path to the file in the file name field of the code, or create a folder and be sure that the correct path to the folder is set when entering the file name. For example, a folder called **\"Example_Data\"** has been created where data was uploaded for these examples. The smeared output data files from this notebook are subsequently saved in the same folder as the input file\n",
    "\n",
    "- Step 3: The smeared data will be saved to a new output file. The location of the output file will be the same as the location of the input file. The file name will be the same as the input file, but it will be appended with \"_Smeared.Spe\" at the end. The output files XXXX_Smeared.Spe are the ones to analyse for the experiment\n",
    "\n",
    "- Step 4: The length of the data file is checked\n",
    "\n",
    "- Step 5: One row of the data is checked\n",
    "\n",
    "- Step 6: The counts data is extracted\n",
    "\n",
    "- Step 7: The inputted data is plotted as a spectrum of counts against MCA channel number\n",
    "\n",
    "- Step 8: The square roots of the counts are calculated to be used in the smearing\n",
    "\n",
    "- Step 9: The smearing function is defined\n",
    "\n",
    "- Step 10: One value of the data is smeared to check\n",
    "\n",
    "- Step 11: All the data is smeared\n",
    "\n",
    "- Step 12: The smeared spectrum (yellow) is plotted on top of the original spectrum (blue)\n",
    "\n",
    "- Step 13: Check the maximum value and the sum of the data after smearing\n",
    "\n",
    "- Step 14: Check the maximum value and the sum of the data before smearing\n",
    "\n",
    "- Step 15: All the data is read\n",
    "\n",
    "- Step 16: The header of the data file is extracted\n",
    "\n",
    "- Step 17: The header of the data file is checked\n",
    "\n",
    "- Step 18: The footer of the data file is extracted\n",
    "\n",
    "- Step 19: The footer of the data file is checked\n",
    "\n",
    "- Step 20: Writing of the output file"
   ]
  },
  {
   "cell_type": "code",
   "execution_count": 1,
   "metadata": {},
   "outputs": [],
   "source": [
    "# import the relevant libraries\n",
    "import numpy as np\n",
    "import scipy\n",
    "import matplotlib.pylab as plt"
   ]
  },
  {
   "cell_type": "code",
   "execution_count": 2,
   "metadata": {},
   "outputs": [
    {
     "name": "stdout",
     "output_type": "stream",
     "text": [
      "Input file is\n",
      "./Example_Data/Example_Background_from_Maestro.Spe\n",
      "\n"
     ]
    }
   ],
   "source": [
    "# input the file name of the data file to be smeared - be careful about the location of the file\n",
    "# extract the data\n",
    "filename = './Example_Data/Example_Background_from_Maestro.Spe'\n",
    "data = np.genfromtxt(filename,\n",
    "                    skip_header=12,\n",
    "                    skip_footer=15)\n",
    "print(\"Input file is\")\n",
    "print(filename)\n",
    "print(\"\")"
   ]
  },
  {
   "cell_type": "code",
   "execution_count": 3,
   "metadata": {},
   "outputs": [
    {
     "name": "stdout",
     "output_type": "stream",
     "text": [
      "Output file after smearing is:\n",
      "./Example_Data/Example_Background_from_Maestro_Smeared.Spe\n",
      "\n"
     ]
    }
   ],
   "source": [
    "# set the output file name to be the same as the input file name but appended by \"_Smeared\"\n",
    "# the location of the output file will be the same as the input file\n",
    "output_filename = filename.split(\".Spe\")[0]+\"_Smeared\"+\".Spe\"\n",
    "print(\"Output file after smearing is:\")\n",
    "print(output_filename)\n",
    "print(\"\")"
   ]
  },
  {
   "cell_type": "code",
   "execution_count": 4,
   "metadata": {},
   "outputs": [
    {
     "name": "stdout",
     "output_type": "stream",
     "text": [
      "Number of channels is\n",
      "512\n"
     ]
    }
   ],
   "source": [
    "# check the length of the data\n",
    "NChan = len(data)\n",
    "print(\"Number of channels is\")\n",
    "print(NChan)"
   ]
  },
  {
   "cell_type": "code",
   "execution_count": 5,
   "metadata": {},
   "outputs": [
    {
     "data": {
      "text/plain": [
       "array([  0.,   0.,   0.,   0.,  43., 435., 275., 228., 203., 231.])"
      ]
     },
     "execution_count": 5,
     "metadata": {},
     "output_type": "execute_result"
    }
   ],
   "source": [
    "# check one row of the data\n",
    "data[:10]"
   ]
  },
  {
   "cell_type": "code",
   "execution_count": 6,
   "metadata": {},
   "outputs": [
    {
     "data": {
      "text/plain": [
       "array([   0.,    0.,    0.,    0.,   43.,  435.,  275.,  228.,  203.,\n",
       "        231.,  187.,  209.,  204.,  245.,  253.,  253.,  276.,  311.,\n",
       "        348.,  363.,  406.,  502.,  568.,  661.,  784.,  896.,  962.,\n",
       "       1045., 1051., 1027., 1070., 1032., 1037., 1016.,  856.,  902.,\n",
       "        956.,  881.,  921.,  889.,  880.,  874.,  873.,  841.,  816.,\n",
       "        768.,  821.,  823.,  747.,  769.,  737.,  700.,  690.,  675.,\n",
       "        708.,  642.,  662.,  608.,  585.,  584.,  559.,  552.,  498.,\n",
       "        531.,  560.,  485.,  556.,  499.,  468.,  475.,  461.,  448.,\n",
       "        454.,  429.,  405.,  443.,  402.,  378.,  378.,  378.,  336.,\n",
       "        340.,  341.,  345.,  362.,  321.,  300.,  252.,  274.,  255.,\n",
       "        278.,  250.,  254.,  250.,  207.,  271.,  242.,  224.,  213.,\n",
       "        232.,  202.,  235.,  200.,  189.,  182.,  170.,  155.,  186.,\n",
       "        172.,  171.,  174.,  162.,  169.,  211.,  183.,  148.,  164.,\n",
       "        150.,  142.,  136.,  124.,  140.,  134.,  138.,  120.,  111.,\n",
       "        123.,  121.,  120.,  108.,  132.,  113.,  128.,  114.,  100.,\n",
       "        103.,   93.,   98.,  102.,  113.,   97.,   91.,   91.,   83.,\n",
       "         90.,   85.,   99.,   79.,   89.,   78.,   83.,   97.,   82.,\n",
       "         80.,   85.,   69.,   82.,   66.,   84.,   92.,   82.,   61.,\n",
       "         61.,   63.,   60.,   79.,   70.,   68.,   71.,   60.,   57.,\n",
       "         62.,   77.,   70.,   50.,   65.,   62.,   59.,   60.,   70.,\n",
       "         57.,   61.,   51.,   48.,   48.,   64.,   51.,   62.,   61.,\n",
       "         61.,   59.,   62.,   74.,   57.,   70.,   70.,   68.,   60.,\n",
       "         78.,   44.,   75.,   68.,   62.,   66.,   75.,   71.,   91.,\n",
       "         74.,   72.,   74.,   67.,   79.,   85.,   85.,   78.,   75.,\n",
       "         92.,   80.,   87.,   81.,   81.,   54.,   64.,   56.,   55.,\n",
       "         57.,   51.,   48.,   49.,   46.,   45.,   33.,   26.,   30.,\n",
       "         19.,   37.,   27.,   32.,   26.,   21.,   30.,   29.,   31.,\n",
       "         21.,   26.,   25.,   29.,   24.,   30.,   30.,   23.,   20.,\n",
       "         23.,   20.,   25.,   15.,   23.,   24.,   20.,   24.,   27.,\n",
       "         20.,   21.,   19.,   19.,   25.,   27.,   24.,   17.,   22.,\n",
       "         23.,   24.,   18.,   21.,   33.,   20.,   27.,   21.,   26.,\n",
       "         22.,   16.,   21.,   11.,   18.,   15.,   21.,   25.,   27.,\n",
       "         27.,   13.,   17.,   19.,   30.,   19.,   22.,   18.,   26.,\n",
       "         30.,   19.,   21.,   17.,   26.,   27.,   26.,   29.,   33.,\n",
       "         14.,   25.,   18.,   28.,   22.,   29.,   19.,   25.,   22.,\n",
       "         18.,   13.,   17.,   18.,   19.,   17.,   15.,   11.,   20.,\n",
       "         24.,   16.,   21.,   14.,   13.,   15.,   21.,   14.,   19.,\n",
       "         22.,   13.,   10.,   11.,   18.,   16.,   16.,   11.,   18.,\n",
       "         17.,   11.,   10.,   12.,   13.,   17.,   18.,   19.,   20.,\n",
       "         17.,   14.,   18.,   20.,   12.,   19.,   17.,   20.,   20.,\n",
       "         11.,   18.,   18.,   17.,   16.,   18.,   19.,   19.,    8.,\n",
       "         18.,   21.,   12.,   10.,   14.,   14.,   13.,    9.,   10.,\n",
       "         10.,   15.,   16.,   17.,   17.,   10.,   10.,   14.,   17.,\n",
       "          8.,   19.,    9.,   10.,   16.,   18.,   10.,    5.,   12.,\n",
       "         12.,   11.,    8.,   16.,    7.,    9.,   11.,   10.,    9.,\n",
       "         12.,    9.,    8.,    4.,   10.,    9.,   12.,    4.,    9.,\n",
       "          3.,    9.,   10.,    8.,    7.,    6.,    8.,    3.,    7.,\n",
       "          5.,    7.,   12.,    8.,    9.,    3.,    5.,    6.,    4.,\n",
       "          8.,    8.,    9.,    7.,   12.,   12.,   11.,   12.,   16.,\n",
       "         13.,   14.,   15.,   11.,   24.,   12.,   16.,   12.,   21.,\n",
       "         18.,   13.,   10.,   12.,   12.,   18.,   21.,   19.,   18.,\n",
       "         12.,   23.,   16.,   20.,   23.,   18.,   15.,   20.,   19.,\n",
       "         15.,   19.,    4.,   18.,   13.,   11.,   10.,   16.,   17.,\n",
       "         13.,   10.,   10.,    6.,    7.,   11.,    7.,    8.,   10.,\n",
       "         10.,   11.,    8.,    0.,    0.,    0.,    0.,    0.,    0.,\n",
       "          0.,    0.,    0.,    0.,    0.,    0.,    0.,    0.,    0.,\n",
       "          0.,    0.,    0.,    0.,    0.,    0.,    0.,    0.])"
      ]
     },
     "execution_count": 6,
     "metadata": {},
     "output_type": "execute_result"
    }
   ],
   "source": [
    "# check we have the data\n",
    "data"
   ]
  },
  {
   "cell_type": "code",
   "execution_count": 7,
   "metadata": {},
   "outputs": [
    {
     "data": {
      "text/plain": [
       "Text(0, 0.5, '# Counts')"
      ]
     },
     "execution_count": 7,
     "metadata": {},
     "output_type": "execute_result"
    },
    {
     "data": {
      "image/png": "[encoded data removed]",
      "text/plain": [
       "<Figure size 1296x576 with 1 Axes>"
      ]
     },
     "metadata": {
      "needs_background": "light"
     },
     "output_type": "display_data"
    }
   ],
   "source": [
    "# the data before smearing is plotted\n",
    "fig, ax = plt.subplots(figsize=(18, 8))\n",
    "x = np.arange(NChan)\n",
    "ax.step(x, data)\n",
    "ax.grid()\n",
    "ax.set_xlabel('Channel')\n",
    "ax.set_ylabel('# Counts')\n",
    "#ax.set_yscale('log')"
   ]
  },
  {
   "cell_type": "code",
   "execution_count": 8,
   "metadata": {},
   "outputs": [
    {
     "data": {
      "text/plain": [
       "array([ 0.        ,  0.        ,  0.        ,  0.        ,  6.55743852,\n",
       "       20.85665361, 16.58312395, 15.09966887, 14.24780685, 15.19868415,\n",
       "       13.67479433, 14.45683229, 14.28285686, 15.65247584, 15.90597372,\n",
       "       15.90597372, 16.61324773, 17.63519209, 18.65475811, 19.05255888,\n",
       "       20.14944168, 22.4053565 , 23.83275058, 25.70992026, 28.        ,\n",
       "       29.93325909, 31.01612484, 32.32645975, 32.41913015, 32.04684072,\n",
       "       32.71085447, 32.12475681, 32.20248438, 31.8747549 , 29.25747768,\n",
       "       30.03331484, 30.91924967, 29.68164416, 30.34798181, 29.81610303,\n",
       "       29.66479395, 29.563491  , 29.54657341, 29.        , 28.56571371,\n",
       "       27.71281292, 28.65309756, 28.68797658, 27.33130074, 27.73084925,\n",
       "       27.14774392, 26.45751311, 26.26785107, 25.98076211, 26.60826939,\n",
       "       25.33771892, 25.72936066, 24.65765601, 24.18677324, 24.16609195,\n",
       "       23.64318084, 23.49468025, 22.3159136 , 23.04343724, 23.66431913,\n",
       "       22.02271555, 23.57965225, 22.3383079 , 21.63330765, 21.79449472,\n",
       "       21.47091055, 21.16601049, 21.30727575, 20.71231518, 20.1246118 ,\n",
       "       21.04756518, 20.04993766, 19.4422221 , 19.4422221 , 19.4422221 ,\n",
       "       18.33030278, 18.43908891, 18.46618531, 18.57417562, 19.02629759,\n",
       "       17.91647287, 17.32050808, 15.87450787, 16.55294536, 15.96871942,\n",
       "       16.673332  , 15.8113883 , 15.93737745, 15.8113883 , 14.38749457,\n",
       "       16.46207763, 15.55634919, 14.96662955, 14.59451952, 15.23154621,\n",
       "       14.2126704 , 15.32970972, 14.14213562, 13.74772708, 13.49073756,\n",
       "       13.03840481, 12.4498996 , 13.6381817 , 13.11487705, 13.07669683,\n",
       "       13.19090596, 12.72792206, 13.        , 14.52583905, 13.52774926,\n",
       "       12.16552506, 12.80624847, 12.24744871, 11.91637529, 11.66190379,\n",
       "       11.13552873, 11.83215957, 11.5758369 , 11.74734012, 10.95445115,\n",
       "       10.53565375, 11.09053651, 11.        , 10.95445115, 10.39230485,\n",
       "       11.48912529, 10.63014581, 11.3137085 , 10.67707825, 10.        ,\n",
       "       10.14889157,  9.64365076,  9.89949494, 10.09950494, 10.63014581,\n",
       "        9.8488578 ,  9.53939201,  9.53939201,  9.11043358,  9.48683298,\n",
       "        9.21954446,  9.94987437,  8.88819442,  9.43398113,  8.83176087,\n",
       "        9.11043358,  9.8488578 ,  9.05538514,  8.94427191,  9.21954446,\n",
       "        8.30662386,  9.05538514,  8.1240384 ,  9.16515139,  9.59166305,\n",
       "        9.05538514,  7.81024968,  7.81024968,  7.93725393,  7.74596669,\n",
       "        8.88819442,  8.36660027,  8.24621125,  8.42614977,  7.74596669,\n",
       "        7.54983444,  7.87400787,  8.77496439,  8.36660027,  7.07106781,\n",
       "        8.06225775,  7.87400787,  7.68114575,  7.74596669,  8.36660027,\n",
       "        7.54983444,  7.81024968,  7.14142843,  6.92820323,  6.92820323,\n",
       "        8.        ,  7.14142843,  7.87400787,  7.81024968,  7.81024968,\n",
       "        7.68114575,  7.87400787,  8.60232527,  7.54983444,  8.36660027,\n",
       "        8.36660027,  8.24621125,  7.74596669,  8.83176087,  6.63324958,\n",
       "        8.66025404,  8.24621125,  7.87400787,  8.1240384 ,  8.66025404,\n",
       "        8.42614977,  9.53939201,  8.60232527,  8.48528137,  8.60232527,\n",
       "        8.18535277,  8.88819442,  9.21954446,  9.21954446,  8.83176087,\n",
       "        8.66025404,  9.59166305,  8.94427191,  9.32737905,  9.        ,\n",
       "        9.        ,  7.34846923,  8.        ,  7.48331477,  7.41619849,\n",
       "        7.54983444,  7.14142843,  6.92820323,  7.        ,  6.78232998,\n",
       "        6.70820393,  5.74456265,  5.09901951,  5.47722558,  4.35889894,\n",
       "        6.08276253,  5.19615242,  5.65685425,  5.09901951,  4.58257569,\n",
       "        5.47722558,  5.38516481,  5.56776436,  4.58257569,  5.09901951,\n",
       "        5.        ,  5.38516481,  4.89897949,  5.47722558,  5.47722558,\n",
       "        4.79583152,  4.47213595,  4.79583152,  4.47213595,  5.        ,\n",
       "        3.87298335,  4.79583152,  4.89897949,  4.47213595,  4.89897949,\n",
       "        5.19615242,  4.47213595,  4.58257569,  4.35889894,  4.35889894,\n",
       "        5.        ,  5.19615242,  4.89897949,  4.12310563,  4.69041576,\n",
       "        4.79583152,  4.89897949,  4.24264069,  4.58257569,  5.74456265,\n",
       "        4.47213595,  5.19615242,  4.58257569,  5.09901951,  4.69041576,\n",
       "        4.        ,  4.58257569,  3.31662479,  4.24264069,  3.87298335,\n",
       "        4.58257569,  5.        ,  5.19615242,  5.19615242,  3.60555128,\n",
       "        4.12310563,  4.35889894,  5.47722558,  4.35889894,  4.69041576,\n",
       "        4.24264069,  5.09901951,  5.47722558,  4.35889894,  4.58257569,\n",
       "        4.12310563,  5.09901951,  5.19615242,  5.09901951,  5.38516481,\n",
       "        5.74456265,  3.74165739,  5.        ,  4.24264069,  5.29150262,\n",
       "        4.69041576,  5.38516481,  4.35889894,  5.        ,  4.69041576,\n",
       "        4.24264069,  3.60555128,  4.12310563,  4.24264069,  4.35889894,\n",
       "        4.12310563,  3.87298335,  3.31662479,  4.47213595,  4.89897949,\n",
       "        4.        ,  4.58257569,  3.74165739,  3.60555128,  3.87298335,\n",
       "        4.58257569,  3.74165739,  4.35889894,  4.69041576,  3.60555128,\n",
       "        3.16227766,  3.31662479,  4.24264069,  4.        ,  4.        ,\n",
       "        3.31662479,  4.24264069,  4.12310563,  3.31662479,  3.16227766,\n",
       "        3.46410162,  3.60555128,  4.12310563,  4.24264069,  4.35889894,\n",
       "        4.47213595,  4.12310563,  3.74165739,  4.24264069,  4.47213595,\n",
       "        3.46410162,  4.35889894,  4.12310563,  4.47213595,  4.47213595,\n",
       "        3.31662479,  4.24264069,  4.24264069,  4.12310563,  4.        ,\n",
       "        4.24264069,  4.35889894,  4.35889894,  2.82842712,  4.24264069,\n",
       "        4.58257569,  3.46410162,  3.16227766,  3.74165739,  3.74165739,\n",
       "        3.60555128,  3.        ,  3.16227766,  3.16227766,  3.87298335,\n",
       "        4.        ,  4.12310563,  4.12310563,  3.16227766,  3.16227766,\n",
       "        3.74165739,  4.12310563,  2.82842712,  4.35889894,  3.        ,\n",
       "        3.16227766,  4.        ,  4.24264069,  3.16227766,  2.23606798,\n",
       "        3.46410162,  3.46410162,  3.31662479,  2.82842712,  4.        ,\n",
       "        2.64575131,  3.        ,  3.31662479,  3.16227766,  3.        ,\n",
       "        3.46410162,  3.        ,  2.82842712,  2.        ,  3.16227766,\n",
       "        3.        ,  3.46410162,  2.        ,  3.        ,  1.73205081,\n",
       "        3.        ,  3.16227766,  2.82842712,  2.64575131,  2.44948974,\n",
       "        2.82842712,  1.73205081,  2.64575131,  2.23606798,  2.64575131,\n",
       "        3.46410162,  2.82842712,  3.        ,  1.73205081,  2.23606798,\n",
       "        2.44948974,  2.        ,  2.82842712,  2.82842712,  3.        ,\n",
       "        2.64575131,  3.46410162,  3.46410162,  3.31662479,  3.46410162,\n",
       "        4.        ,  3.60555128,  3.74165739,  3.87298335,  3.31662479,\n",
       "        4.89897949,  3.46410162,  4.        ,  3.46410162,  4.58257569,\n",
       "        4.24264069,  3.60555128,  3.16227766,  3.46410162,  3.46410162,\n",
       "        4.24264069,  4.58257569,  4.35889894,  4.24264069,  3.46410162,\n",
       "        4.79583152,  4.        ,  4.47213595,  4.79583152,  4.24264069,\n",
       "        3.87298335,  4.47213595,  4.35889894,  3.87298335,  4.35889894,\n",
       "        2.        ,  4.24264069,  3.60555128,  3.31662479,  3.16227766,\n",
       "        4.        ,  4.12310563,  3.60555128,  3.16227766,  3.16227766,\n",
       "        2.44948974,  2.64575131,  3.31662479,  2.64575131,  2.82842712,\n",
       "        3.16227766,  3.16227766,  3.31662479,  2.82842712,  0.        ,\n",
       "        0.        ,  0.        ,  0.        ,  0.        ,  0.        ,\n",
       "        0.        ,  0.        ,  0.        ,  0.        ,  0.        ,\n",
       "        0.        ,  0.        ,  0.        ,  0.        ,  0.        ,\n",
       "        0.        ,  0.        ,  0.        ,  0.        ,  0.        ,\n",
       "        0.        ,  0.        ])"
      ]
     },
     "execution_count": 8,
     "metadata": {},
     "output_type": "execute_result"
    }
   ],
   "source": [
    "# the Possionian errors, i.e. the square roots of the counts, are calculated to be used for smearing\n",
    "np.sqrt(data)"
   ]
  },
  {
   "cell_type": "code",
   "execution_count": 9,
   "metadata": {},
   "outputs": [],
   "source": [
    "# the semaring function is defined\n",
    "def smear(y):\n",
    "    output = y + (((np.random.rand()*2)-1)*np.sqrt(y))\n",
    "    return int(np.abs(output))"
   ]
  },
  {
   "cell_type": "code",
   "execution_count": 10,
   "metadata": {},
   "outputs": [
    {
     "data": {
      "text/plain": [
       "11"
      ]
     },
     "execution_count": 10,
     "metadata": {},
     "output_type": "execute_result"
    }
   ],
   "source": [
    "# one value is smeared to check\n",
    "smear(9)"
   ]
  },
  {
   "cell_type": "code",
   "execution_count": 11,
   "metadata": {},
   "outputs": [],
   "source": [
    "# all the data is smeared\n",
    "data_smeared = [smear(y) for y in data]"
   ]
  },
  {
   "cell_type": "code",
   "execution_count": 12,
   "metadata": {},
   "outputs": [
    {
     "data": {
      "text/plain": [
       "<matplotlib.legend.Legend at 0x7fd058987fa0>"
      ]
     },
     "execution_count": 12,
     "metadata": {},
     "output_type": "execute_result"
    },
    {
     "data": {
      "image/png": "[encoded data removed]",
      "text/plain": [
       "<Figure size 1296x576 with 1 Axes>"
      ]
     },
     "metadata": {
      "needs_background": "light"
     },
     "output_type": "display_data"
    }
   ],
   "source": [
    "# the smeared spectrum (yellow) is plotted on top of the original spectrum (blue)\n",
    "s = [0.01, 0.1, 0.5, 1, 10]\n",
    "\n",
    "fig, ax = plt.subplots(figsize=(18, 8))\n",
    "x = np.arange(NChan)\n",
    "ax.step(x, data, label='Original')\n",
    "ax.step(x, data_smeared, label='Smeared')\n",
    "\n",
    "ax.grid()\n",
    "ax.set_xlabel('Channel')\n",
    "ax.set_ylabel('# Counts')\n",
    "ax.grid()\n",
    "ax.legend()\n",
    "#ax.set_yscale('log')"
   ]
  },
  {
   "cell_type": "code",
   "execution_count": 13,
   "metadata": {},
   "outputs": [
    {
     "name": "stdout",
     "output_type": "stream",
     "text": [
      "Maximum and sum values after smearing are:\n"
     ]
    },
    {
     "data": {
      "text/plain": [
       "(1097, 67573)"
      ]
     },
     "execution_count": 13,
     "metadata": {},
     "output_type": "execute_result"
    }
   ],
   "source": [
    "# check the maximum and sum values of the data after smearing\n",
    "print(\"Maximum and sum values after smearing are:\")\n",
    "max(data_smeared), sum(data_smeared)"
   ]
  },
  {
   "cell_type": "code",
   "execution_count": 14,
   "metadata": {},
   "outputs": [
    {
     "name": "stdout",
     "output_type": "stream",
     "text": [
      "Maximum and sum values before smearing are:\n"
     ]
    },
    {
     "data": {
      "text/plain": [
       "(1070.0, 67699.0)"
      ]
     },
     "execution_count": 14,
     "metadata": {},
     "output_type": "execute_result"
    }
   ],
   "source": [
    "# check the maximum and sum values of the data before smearing\n",
    "print(\"Maximum and sum values before smearing are:\")\n",
    "max(data), sum(data)"
   ]
  },
  {
   "cell_type": "code",
   "execution_count": 15,
   "metadata": {},
   "outputs": [],
   "source": [
    "# all the data is read\n",
    "with open(filename, 'r') as f:\n",
    "    content = f.readlines()"
   ]
  },
  {
   "cell_type": "code",
   "execution_count": 16,
   "metadata": {},
   "outputs": [],
   "source": [
    "# the header of the data is extracted\n",
    "header = content[:12]"
   ]
  },
  {
   "cell_type": "code",
   "execution_count": 17,
   "metadata": {},
   "outputs": [
    {
     "data": {
      "text/plain": [
       "['$SPEC_ID:\\n',\n",
       " 'count period029\\n',\n",
       " '$SPEC_REM:\\n',\n",
       " 'DET# 4\\n',\n",
       " 'DETDESC# SE-PHYS-HONS-10 Model 927 SN 7149529 Input 2\\n',\n",
       " 'AP# Maestro Version 7.01\\n',\n",
       " '$DATE_MEA:\\n',\n",
       " '09/18/2020 14:01:23\\n',\n",
       " '$MEAS_TIM:\\n',\n",
       " '599 600\\n',\n",
       " '$DATA:\\n',\n",
       " '0 511\\n']"
      ]
     },
     "execution_count": 17,
     "metadata": {},
     "output_type": "execute_result"
    }
   ],
   "source": [
    "# the header of the data is checked\n",
    "header"
   ]
  },
  {
   "cell_type": "code",
   "execution_count": 18,
   "metadata": {},
   "outputs": [],
   "source": [
    "# the footer of the data is extracted\n",
    "footer = content[-15:]"
   ]
  },
  {
   "cell_type": "code",
   "execution_count": 19,
   "metadata": {},
   "outputs": [
    {
     "data": {
      "text/plain": [
       "['$ROI:\\n',\n",
       " '1\\n',\n",
       " '496 506\\n',\n",
       " '$PRESETS:\\n',\n",
       " 'Live Time\\n',\n",
       " '600\\n',\n",
       " '0\\n',\n",
       " '$ENER_FIT:\\n',\n",
       " '0.000000 0.003079\\n',\n",
       " '$MCA_CAL:\\n',\n",
       " '3\\n',\n",
       " '0.000000E+000 3.079070E-003 0.000000E+000 MeV\\n',\n",
       " '$SHAPE_CAL:\\n',\n",
       " '3\\n',\n",
       " '0.000000E+000 0.000000E+000 0.000000E+000\\n']"
      ]
     },
     "execution_count": 19,
     "metadata": {},
     "output_type": "execute_result"
    }
   ],
   "source": [
    "# the footer of the data is checked\n",
    "footer"
   ]
  },
  {
   "cell_type": "code",
   "execution_count": 20,
   "metadata": {},
   "outputs": [],
   "source": [
    "# the smeared data is written to the output file\n",
    "\n",
    "if len(data_smeared) != NChan:\n",
    "    print(\"problem with output file length - check!\")\n",
    "else:\n",
    "    with open(output_filename, 'w') as f:\n",
    "\n",
    "        for item in header:\n",
    "            f.write(item)\n",
    "        \n",
    "        for item in data_smeared:\n",
    "            f.write(\"{:>9}\".format(str(item)+'\\n'))\n",
    "        \n",
    "        for item in footer:\n",
    "            f.write(item)"
   ]
  }
 ],
 "metadata": {
  "kernelspec": {
   "display_name": "Default",
   "language": "python",
   "name": "python3"
  },
  "language_info": {
   "codemirror_mode": {
    "name": "ipython",
    "version": 3
   },
   "file_extension": ".py",
   "mimetype": "text/x-python",
   "name": "python",
   "nbconvert_exporter": "python",
   "pygments_lexer": "ipython3",
   "version": "3.8.0"
  }
 },
 "nbformat": 4,
 "nbformat_minor": 4
}
