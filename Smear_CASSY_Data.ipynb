{
 "cells": [
  {
   "cell_type": "markdown",
   "metadata": {},
   "source": [
    "# Smearing Notebook for CASSY Data Files\n",
    "\n",
    "This notebook smears .txt data files obtained with the CASSY software for the experiment:\n",
    "- Attenutation of Gamma Radiation in Matter\n",
    "\n",
    "Since everyone is provided the same data files, it is recommended that you randomly smear your data first to individualise it.\n",
    "\n",
    "For the smearing, the counts ($N$) of every bin in the spectrum are randomly smeared by their Poissonion error ($\\sqrt{N}$). The channel positions are not smeared.\n",
    "\n",
    "You should only perform the smearing **once** per data file, when you first receive your data. You should execute this smearing script for **every** single data file individually. **The smeared output files from this notebook should be used for subsequent analysis steps of the experiment.**\n",
    "\n",
    "Please take a note of the maximum values in the data files before and after smearing to check that everything worked ok - see steps 12 and 13 below and note down the numbers for each file you smear.\n",
    "\n",
    "**Breakdown of the code cells in this notebook:**\n",
    "\n",
    "- Step 1: Import various program modules\n",
    "\n",
    "- Step 2: Enter input file name and extract the data. Before running this step, be sure that your input data file is uploaded to the correct folder. Either upload the file to the same folder as this notebook and put no path to the file in the file name field of the code, or create a folder and be sure that the correct path to the folder is set when entering the file name. For example, a folder called **\"Example_Data\"** has been created where data was uploaded for these examples. The smeared output data files from this notebook are subsequently saved in the same folder as the input file\n",
    "\n",
    "- Step 3: The smeared data will be saved to a new output file. The location of the output file will be the same as the location of the input file. The file name will be the same as the input file, but it will be appended with \"_Smeared.txt\" at the end. The output files XXXX_Smeared.txt are the ones to analyse for the rest of the experiment\n",
    "\n",
    "- Step 4: The length of the data file is checked\n",
    "\n",
    "- Step 5: A subset of the data is checked\n",
    "\n",
    "- Step 6: The inputted data is plotted as a spectrum of counts against MCA channel number\n",
    "\n",
    "- Step 7: Define the smearing function\n",
    "\n",
    "- Step 8: Check one row of the data before smearing\n",
    "\n",
    "- Step 9: Check the same row of the data after smearing\n",
    "\n",
    "- Step 10: Smear all the data\n",
    "\n",
    "- Step 11: Plot the smeared spectrum (yellow) on top of the original spectrum (blue)\n",
    "\n",
    "- Step 12: Check the maximum value in the data before smearing\n",
    "\n",
    "- Step 13: Check the maximum value in the data after smearing\n",
    "\n",
    "- Step 14: Reading the input file\n",
    "\n",
    "- Step 15: Getting the header of the file\n",
    "\n",
    "- Step 16: Checking the format of the header\n",
    "\n",
    "- Step 17: Writing of the output file"
   ]
  },
  {
   "cell_type": "code",
   "execution_count": 1,
   "metadata": {},
   "outputs": [],
   "source": [
    "# import the relevant libraries\n",
    "import copy\n",
    "import numpy as np\n",
    "import scipy\n",
    "import matplotlib.pylab as plt"
   ]
  },
  {
   "cell_type": "code",
   "execution_count": 2,
   "metadata": {},
   "outputs": [
    {
     "name": "stdout",
     "output_type": "stream",
     "text": [
      "The input data file is:\n",
      "./Example_Data/Example_Cs137_from_CASSY.txt\n",
      "\n"
     ]
    }
   ],
   "source": [
    "# Set the input file name, and get the data\n",
    "filename = './Example_Data/Example_Cs137_from_CASSY.txt'\n",
    "data = np.genfromtxt(filename,\n",
    "                    skip_header=5,\n",
    "                    delimiter='\\t')\n",
    "print(\"The input data file is:\")\n",
    "print(filename)\n",
    "print(\"\")"
   ]
  },
  {
   "cell_type": "code",
   "execution_count": 3,
   "metadata": {},
   "outputs": [
    {
     "name": "stdout",
     "output_type": "stream",
     "text": [
      "The output smeared data file is:\n",
      "./Example_Data/Example_Cs137_from_CASSY_Smeared.txt\n",
      "\n"
     ]
    }
   ],
   "source": [
    "# Set the output file name to be the same as the input file name but appended by _Smeared.\n",
    "# The output file will lie in the same folder as the input file.\n",
    "output_filename = filename.split(\".txt\")[0]+\"_Smeared\"+\".txt\"\n",
    "print(\"The output smeared data file is:\")\n",
    "print(output_filename)\n",
    "print(\"\")"
   ]
  },
  {
   "cell_type": "code",
   "execution_count": 4,
   "metadata": {},
   "outputs": [
    {
     "data": {
      "text/plain": [
       "601"
      ]
     },
     "execution_count": 4,
     "metadata": {},
     "output_type": "execute_result"
    }
   ],
   "source": [
    "len(data)            # check the length of the data to be sure the data file is not empty"
   ]
  },
  {
   "cell_type": "code",
   "execution_count": 5,
   "metadata": {},
   "outputs": [
    {
     "data": {
      "text/plain": [
       "array([[  0.        ,   0.        ,   0.        ,   0.        ,\n",
       "        795.0546875 ],\n",
       "       [  1.        ,   1.        ,   1.        ,   1.        ,\n",
       "        792.7265625 ],\n",
       "       [  2.        , 275.        ,   2.        ,   2.        ,\n",
       "        791.95052083],\n",
       "       [  3.        , 554.        ,   3.        ,   3.        ,\n",
       "        805.91927083],\n",
       "       [  4.        , 654.        ,   4.        ,   4.        ,\n",
       "        794.66666667],\n",
       "       [  5.        , 781.        ,   5.        ,   5.        ,\n",
       "        795.83072917],\n",
       "       [  6.        , 793.        ,   6.        ,   6.        ,\n",
       "        795.83072917],\n",
       "       [  7.        , 870.        ,   7.        ,   7.        ,\n",
       "        796.60677083],\n",
       "       [  8.        , 953.        ,   8.        ,   8.        ,\n",
       "        796.60677083],\n",
       "       [  8.999     , 991.        ,   9.        ,   9.        ,\n",
       "        797.77083333]])"
      ]
     },
     "execution_count": 5,
     "metadata": {},
     "output_type": "execute_result"
    }
   ],
   "source": [
    "data[:10]           # have a look at a sample of the data"
   ]
  },
  {
   "cell_type": "code",
   "execution_count": 6,
   "metadata": {},
   "outputs": [
    {
     "data": {
      "text/plain": [
       "(0.0, 4612.3)"
      ]
     },
     "execution_count": 6,
     "metadata": {},
     "output_type": "execute_result"
    },
    {
     "data": {
      "image/png": "[encoded data removed]",
      "text/plain": [
       "<Figure size 1296x576 with 1 Axes>"
      ]
     },
     "metadata": {
      "needs_background": "light"
     },
     "output_type": "display_data"
    }
   ],
   "source": [
    "# plot the data to see how it looks before smearing\n",
    "fig, ax = plt.subplots(figsize=(18, 8))\n",
    "x = data[:,3] # channel\n",
    "y = data[:,1] # counts \n",
    "ax.step(x, y)\n",
    "ax.grid()\n",
    "ax.set_xlabel('Channel')\n",
    "ax.set_ylabel('# Counts')\n",
    "ax.set_ylim([0, max(y)*1.1]) # set y - axis value"
   ]
  },
  {
   "cell_type": "code",
   "execution_count": 7,
   "metadata": {},
   "outputs": [],
   "source": [
    "# define the smearing function\n",
    "def smear(y):\n",
    "    line = copy.deepcopy(y)\n",
    "    if line[1]>=0:\n",
    "        output = line[1] + (((np.random.rand()*2)-1)*np.sqrt(line[1])) # using the poissonian errors on the counts to smear\n",
    "        line[1] = int(np.abs(output))\n",
    "    return line"
   ]
  },
  {
   "cell_type": "code",
   "execution_count": 8,
   "metadata": {},
   "outputs": [
    {
     "data": {
      "text/plain": [
       "array([ 214.        , 3390.        ,  214.        ,  214.        ,\n",
       "        796.60677083])"
      ]
     },
     "execution_count": 8,
     "metadata": {},
     "output_type": "execute_result"
    }
   ],
   "source": [
    "# check one row of the data before smearing\n",
    "data[214]"
   ]
  },
  {
   "cell_type": "code",
   "execution_count": 9,
   "metadata": {},
   "outputs": [
    {
     "data": {
      "text/plain": [
       "array([ 214.        , 3437.        ,  214.        ,  214.        ,\n",
       "        796.60677083])"
      ]
     },
     "execution_count": 9,
     "metadata": {},
     "output_type": "execute_result"
    }
   ],
   "source": [
    "# apply the smearing to this row and check how it changes\n",
    "smear(data[214])"
   ]
  },
  {
   "cell_type": "code",
   "execution_count": 10,
   "metadata": {},
   "outputs": [],
   "source": [
    "# smear all the data\n",
    "data_smeared = np.array([smear(y) for y in data])"
   ]
  },
  {
   "cell_type": "code",
   "execution_count": 11,
   "metadata": {},
   "outputs": [
    {
     "data": {
      "text/plain": [
       "(0.0, 4545.200000000001)"
      ]
     },
     "execution_count": 11,
     "metadata": {},
     "output_type": "execute_result"
    },
    {
     "data": {
      "image/png": "[encoded data removed]",
      "text/plain": [
       "<Figure size 1296x576 with 1 Axes>"
      ]
     },
     "metadata": {
      "needs_background": "light"
     },
     "output_type": "display_data"
    }
   ],
   "source": [
    "# plot the smeared data (yellow) on top of the un-smeared data (blue)\n",
    "s = [0.01, 0.1, 0.5, 1, 10]\n",
    "\n",
    "fig, ax = plt.subplots(figsize=(18, 8))\n",
    "x = data[:,3] # channel\n",
    "y = data[:,1] # counts \n",
    "ax.step(x, y, label='Original')\n",
    "\n",
    "x = data_smeared[:,3] # channel\n",
    "y = data_smeared[:,1] # counts \n",
    "ax.step(x, y, label='Smeared')\n",
    "\n",
    "ax.grid()\n",
    "ax.set_xlabel('Channel')\n",
    "ax.set_ylabel('# Counts')\n",
    "ax.grid()\n",
    "ax.legend()\n",
    "ax.set_ylim([0, max(y)*1.1]) # set y - axis value"
   ]
  },
  {
   "cell_type": "code",
   "execution_count": 12,
   "metadata": {},
   "outputs": [
    {
     "name": "stdout",
     "output_type": "stream",
     "text": [
      "Max value before smearing is:\n"
     ]
    },
    {
     "data": {
      "text/plain": [
       "4132.0"
      ]
     },
     "execution_count": 12,
     "metadata": {},
     "output_type": "execute_result"
    }
   ],
   "source": [
    "# Check the maximum value in the unsmeared data\n",
    "print(\"Max value before smearing is:\")\n",
    "max(data_smeared[:,1])"
   ]
  },
  {
   "cell_type": "code",
   "execution_count": 13,
   "metadata": {},
   "outputs": [
    {
     "name": "stdout",
     "output_type": "stream",
     "text": [
      "Max value after smearing is:\n"
     ]
    },
    {
     "data": {
      "text/plain": [
       "4193.0"
      ]
     },
     "execution_count": 13,
     "metadata": {},
     "output_type": "execute_result"
    }
   ],
   "source": [
    "# Check the maximum value in the smeared data, it should have changed\n",
    "print(\"Max value after smearing is:\")\n",
    "max(data[:,1])"
   ]
  },
  {
   "cell_type": "code",
   "execution_count": 14,
   "metadata": {},
   "outputs": [],
   "source": [
    "# reading all the lines of the input file\n",
    "with open(filename, 'r') as f:\n",
    "    content = f.readlines()"
   ]
  },
  {
   "cell_type": "code",
   "execution_count": 15,
   "metadata": {},
   "outputs": [],
   "source": [
    "# getting the header of the file\n",
    "header = content[:5]"
   ]
  },
  {
   "cell_type": "code",
   "execution_count": 16,
   "metadata": {},
   "outputs": [
    {
     "data": {
      "text/plain": [
       "['\\ufeffMIN=0\\t0\\t0\\t0\\t0\\n',\n",
       " 'MAX=600\\t4641.58883361278\\t511\\t511\\t2000\\n',\n",
       " 'SCALE=600\\t5\\t100\\t500\\t500\\n',\n",
       " 'DEC=0\\t0\\t0\\t1\\t0\\n',\n",
       " 'DEF=\"Time\" t / s\\t\"Events\" N_A\\t\"Channel\" n_A\\t\"Energy\" E_A / keV\\t\"Voltage\" U_A / V\\n']"
      ]
     },
     "execution_count": 16,
     "metadata": {},
     "output_type": "execute_result"
    }
   ],
   "source": [
    "# checking the header of the file\n",
    "header"
   ]
  },
  {
   "cell_type": "code",
   "execution_count": 17,
   "metadata": {},
   "outputs": [],
   "source": [
    "# writing the output file\n",
    "with open(output_filename, 'w') as f:\n",
    "    for item in header:\n",
    "        f.write(item)\n",
    "        \n",
    "    for item in data_smeared:        \n",
    "        [f.write(\"{}\\t\".format(str(s))) for s in item]\n",
    "        f.write(\"\\n\")"
   ]
  },
  {
   "cell_type": "code",
   "execution_count": null,
   "metadata": {},
   "outputs": [],
   "source": []
  },
  {
   "cell_type": "code",
   "execution_count": null,
   "metadata": {},
   "outputs": [],
   "source": []
  }
 ],
 "metadata": {
  "kernelspec": {
   "display_name": "Default",
   "language": "python",
   "name": "python3"
  },
  "language_info": {
   "codemirror_mode": {
    "name": "ipython",
    "version": 3
   },
   "file_extension": ".py",
   "mimetype": "text/x-python",
   "name": "python",
   "nbconvert_exporter": "python",
   "pygments_lexer": "ipython3",
   "version": "3.8.0"
  }
 },
 "nbformat": 4,
 "nbformat_minor": 4
}
