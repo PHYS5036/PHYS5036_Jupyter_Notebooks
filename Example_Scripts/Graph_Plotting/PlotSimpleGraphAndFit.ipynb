{
 "cells": [
  {
   "cell_type": "markdown",
   "metadata": {},
   "source": [
    "Simple 4-step Jupyter notebook to plot graphs of variable y as a function of variable x. There are options for plotting x-and y-data linearly or logarithmically. This is useful for analysing exponential or power law relationships. curve_fit is then used to fit a straight line to the data and output the fit parameters and their errors.\n",
    "\n",
    "Step 1: Import various program modules\n",
    "\n",
    "Step 2: Input the histogram data\n",
    "\n",
    "Step 3: Evaluate the errors\n",
    "\n",
    "Step 4: Plot the histogram and fit it with a straight line. Output the fit results and their errors. Save the graph to an output file.\n"
   ]
  },
  {
   "cell_type": "code",
   "execution_count": 1,
   "metadata": {},
   "outputs": [],
   "source": [
    "# import useful modules\n",
    "\n",
    "import math                                     # This will import math module\n",
    "import matplotlib.pyplot as plt                 # This will import plotting module\n",
    "import math\n",
    "import numpy as np\n",
    "import pylab as plb\n",
    "from scipy.optimize import curve_fit\n",
    "from scipy import asarray as ar\n",
    "from numpy import exp"
   ]
  },
  {
   "cell_type": "code",
   "execution_count": 2,
   "metadata": {},
   "outputs": [],
   "source": [
    "# define variables and values for data\n",
    "\n",
    "xvalue = [1.0,2.0,3.0,4.0,5.5,6.4,7.3,8.2,9.1,10.0]             # list of x-values to be plotted\n",
    "yvalue = [20.3,20.5,18.0,22.1,23.3,19.5,20.1,20.5,20.0,20.2]      # list of y-values to be plotted \n",
    "outputfile = 'Graph1.pdf'                                       # set output filename\n",
    "\n",
    "datapoints=len(yvalue)                                          # calculate number of data points\n",
    "yerror  = np.array([ x + 1 for x in range(datapoints) ],'f')    # array for y-error values (to be calculated later)"
   ]
  },
  {
   "cell_type": "code",
   "execution_count": 3,
   "metadata": {},
   "outputs": [],
   "source": [
    "# Evaluate the errors in the y-data, assuming Poisson statistics\n",
    "\n",
    "count=0     \n",
    "while count < datapoints:\n",
    "    yerror[count] = math.sqrt(yvalue[count])           # Poisson statistics gives error=sqrt(counts)\n",
    "    count += 1    "
   ]
  },
  {
   "cell_type": "code",
   "execution_count": 4,
   "metadata": {},
   "outputs": [
    {
     "name": "stdout",
     "output_type": "stream",
     "text": [
      "\n",
      "Fit results are:\n",
      "a = 0.0006445958155109066 +/- 0.16313088906422854\n",
      "b = 20.44635803367246 +/- 1.0375745538172865\n",
      "\n"
     ]
    },
    {
     "data": {
      "image/png": "[encoded data removed]",
      "text/plain": [
       "<Figure size 432x288 with 1 Axes>"
      ]
     },
     "metadata": {
      "needs_background": "light"
     },
     "output_type": "display_data"
    }
   ],
   "source": [
    "# Plot the data\n",
    "\n",
    "figuretitle   = 'Graph of y vs x'                      # set title for the graph\n",
    "xlabeltext    = \"Quantity x (units)\"                   # set x-axis label\n",
    "ylabeltext    = \"Quantity y (units)\"                   # set y-axis label\n",
    "annotatetext1 = \"Sample annotation here\"               # set text for annotation 1\n",
    "plt.xscale('linear')                                   # choose 'log' or 'linear' for xscale\n",
    "plt.yscale('linear')                                   # choose 'log' or 'linear' for yscale\n",
    "plt.rcParams['font.family'] = 'DejaVu Sans'            # set font style for labels \n",
    "plt.rcParams[\"figure.figsize\"] = (8,6)                 # set figure size (x,y) in inches\n",
    "\n",
    "# select plotting symbols\n",
    "\n",
    "symbol='g.'       # choose colour and symbol for data points ('r.', 'go', 'bD', etc.)\n",
    "\n",
    "# find minimum and maximum x- and y-values in the data to be plotted\n",
    "\n",
    "xcountsmin=min(xvalue)\n",
    "xcountsmax=max(xvalue)\n",
    "ycountsmin=min(yvalue)\n",
    "ycountsmax=max(yvalue)\n",
    "\n",
    "# set minimum and maximum scales for x- and y-axes\n",
    "\n",
    "xplotmin = xcountsmin*0.1       # set non-zero value to avoid error if logarithmic y-axis chosen\n",
    "xplotmax = xcountsmax + 1\n",
    "yplotmin = 0.1                  # set non-zero value to avoid error if logarithmic y-axis chosen\n",
    "yplotmax = ycountsmax*2.0\n",
    "\n",
    "# set location for annotation\n",
    "\n",
    "annotatexposition1 = xplotmin+0.1*(xplotmax-xplotmin) # use fraction between 0 and 1 to ensure position is within plot area\n",
    "annotateyposition1 = yplotmin+0.8*(yplotmax-yplotmin) # use fraction between 0 and 1 to ensure position is within plot area\n",
    "\n",
    "# plot and save the graph\n",
    "\n",
    "plt.axis([xplotmin,xplotmax,yplotmin,yplotmax])                                     # plot the graph axes\n",
    "plt.xlabel(xlabeltext,fontsize=20)                                                  # add label for x-axis\n",
    "plt.ylabel(ylabeltext,fontsize=20)                                                  # add label for y-axis\n",
    "plt.title(figuretitle, fontsize=20)                                                 # add figure title\n",
    "plt.annotate(annotatetext1,xy=(annotatexposition1,annotateyposition1),fontsize=12)  # Sample annotation of graph\n",
    "plt.errorbar(xvalue, yvalue, yerr=yerror,label=\"data\")                              # plot data and y-errorbars\n",
    "\n",
    "# fit straight line using curve_fit\n",
    "\n",
    "def line(x, a, b):                                                                  # define linear function to fit\n",
    "    return a * x + b\n",
    "popt, pcov = curve_fit(line, xvalue, yvalue)                                        # fit the function to the data\n",
    "xfit = np.arange(0,10.5,0.5)                                                        # initialise x values for plotting\n",
    "plt.plot(xfit,line(xfit,popt[0],popt[1]),label=\"fitline\")                           # plot the results\n",
    "\n",
    "# output fit results and errors\n",
    "\n",
    "print(\"\")\n",
    "print(\"Fit results are:\")\n",
    "print(\"a =\", popt[0], \"+/-\", pcov[0,0]**0.5)\n",
    "print(\"b =\", popt[1], \"+/-\", pcov[1,1]**0.5)\n",
    "print(\"\")\n",
    "\n",
    "# some plotting and saving commands\n",
    "\n",
    "plt.grid()                                                                          # add grid lines\n",
    "plt.legend()                                                                        # add legend\n",
    "plt.savefig(outputfile,bbox_inches = 'tight')                                       # write to output file\n",
    "plt.show()"
   ]
  }
 ],
 "metadata": {
  "kernelspec": {
   "display_name": "Default",
   "language": "python",
   "name": "python3"
  },
  "language_info": {
   "codemirror_mode": {
    "name": "ipython",
    "version": 3
   },
   "file_extension": ".py",
   "mimetype": "text/x-python",
   "name": "python",
   "nbconvert_exporter": "python",
   "pygments_lexer": "ipython3",
   "version": "3.8.0"
  }
 },
 "nbformat": 4,
 "nbformat_minor": 4
}
