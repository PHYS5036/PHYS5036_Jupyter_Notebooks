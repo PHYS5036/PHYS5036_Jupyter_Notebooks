{
 "cells": [
  {
   "cell_type": "markdown",
   "metadata": {},
   "source": [
    "Simple 4-step Jupyter notebook to plot a histogram\n",
    "\n",
    "Step 1: Import various program modules\n",
    "\n",
    "Step 2: Input the histogram data\n",
    "\n",
    "Step 3: Define, initialise and fill the working variables\n",
    "\n",
    "Step 4: Plot the histogram"
   ]
  },
  {
   "cell_type": "code",
   "execution_count": 1,
   "metadata": {},
   "outputs": [],
   "source": [
    "# import modules\n",
    "\n",
    "import math                                     # This will import math module\n",
    "import matplotlib.pyplot as plt                 # This will import plotting module\n",
    "import matplotlib\n",
    "import numpy as np\n",
    "import pylab as plb\n",
    "from scipy.optimize import curve_fit\n",
    "from scipy import asarray as ar\n",
    "from numpy import exp"
   ]
  },
  {
   "cell_type": "code",
   "execution_count": 2,
   "metadata": {},
   "outputs": [],
   "source": [
    "# define variables and values for data\n",
    "\n",
    "nobins = 10                                     # set the number of x-bins\n",
    "binwidth = 2.0                                  # set x-binwidth e.g. 1 V\n",
    "xstart = 0.0                                    # set starting x-value e.g. 0.0 V\n",
    "yvalue = [500,200,180,220,230,700,200,20,0,0]   # list of values for contents of each histogram bin \n",
    "outputfile = 'Histogram1.pdf'                   # set output filename"
   ]
  },
  {
   "cell_type": "code",
   "execution_count": 3,
   "metadata": {},
   "outputs": [],
   "source": [
    "# define arrays for lower and mid x-values of bins, normalised bin value and normalised error in bin value\n",
    "\n",
    "xlower = np.array([ x + 1 for x in range(nobins)],'f')\n",
    "ynorm  = np.array([ x + 1 for x in range(nobins)],'f')\n",
    "yerror = np.array([ x + 1 for x in range(nobins)],'f')\n",
    "\n",
    "# fill the arrays\n",
    "\n",
    "count=0     \n",
    "while count < nobins:\n",
    "    xlower[count] = xstart + count*binwidth            # lower x-value of bin\n",
    "    ynorm[count]  = yvalue[count]/binwidth             # normalise yvalue to binwidth\n",
    "    yerror[count] = math.sqrt(yvalue[count])/binwidth  # Poisson statistics gives error=sqrt(counts)\n",
    "    count += 1    "
   ]
  },
  {
   "cell_type": "code",
   "execution_count": 4,
   "metadata": {},
   "outputs": [
    {
     "data": {
      "image/png": "[encoded data removed]",
      "text/plain": [
       "<matplotlib.figure.Figure at 0x7f7c252848d0>"
      ]
     },
     "metadata": {},
     "output_type": "display_data"
    }
   ],
   "source": [
    "# set histogram parameters\n",
    "\n",
    "bar_colour    = 'red'                                  # set colour of histogram\n",
    "figuretitle   = 'Histrogram of ...'                    # set title for the histogram\n",
    "xlabeltext    = \"Pulse Amplitude (Volts)\"              # set x-axis label\n",
    "ylabeltext    = \"Counts per volt\"                      # set y-axis label\n",
    "annotatetext1 = \"137-Cs photopeak\"                     # set text for annotation 1\n",
    "plt.rcParams[\"figure.figsize\"] = (8,6)                 # set figure size (x,y) in inches\n",
    "\n",
    "# find minimum and maximum x- and y-values in the data to be plotted\n",
    "\n",
    "xcountsmin=min(xlower)\n",
    "xcountsmax=max(xlower) + binwidth\n",
    "ycountsmin=min(ynorm)\n",
    "ycountsmax=max(ynorm)\n",
    "\n",
    "# set minimum and maximum scales for x- and y-axes\n",
    "\n",
    "xplotmin=xcountsmin\n",
    "xplotmax=xcountsmax\n",
    "yplotmin=0.1                  # set non-zero value to avoid error if logarithmic y-axis chosen\n",
    "yplotmax=ycountsmax*1.1\n",
    "\n",
    "# set location for annotation\n",
    "\n",
    "annotatexposition1 = xplotmin+0.2*(xplotmax-xplotmin) # use fraction between 0 and 1 to ensure position is within plot area\n",
    "annotateyposition1 = yplotmin+0.8*(yplotmax-yplotmin) # use fraction between 0 and 1 to ensure position is within plot area\n",
    "\n",
    "# plot and save the histogram\n",
    "\n",
    "plt.bar(xlower,ynorm,binwidth,color=bar_colour,yerr=yerror,align='edge')       # plot the histogram\n",
    "plt.xlabel(xlabeltext)                                                         # add label for x-axis\n",
    "plt.ylabel(ylabeltext)                                                         # add label for y-axis\n",
    "plt.title(figuretitle)                                                         # add figure title\n",
    "plt.xticks(xlower)                                                             # set size of ticks on x-axis\n",
    "plt.annotate(annotatetext1,xy=(annotatexposition1,annotateyposition1),size=12) # Sample annotation of graph\n",
    "plt.savefig(outputfile,bbox_inches = 'tight')                                  # write out spectra to outputfile\n",
    "plt.show()\n"
   ]
  }
 ],
 "metadata": {
  "kernelspec": {
   "display_name": "Default",
   "language": "python",
   "name": "python3"
  },
  "language_info": {
   "codemirror_mode": {
    "name": "ipython",
    "version": 3
   },
   "file_extension": ".py",
   "mimetype": "text/x-python",
   "name": "python",
   "nbconvert_exporter": "python",
   "pygments_lexer": "ipython3",
   "version": "3.8.0"
  }
 },
 "nbformat": 4,
 "nbformat_minor": 4
}
