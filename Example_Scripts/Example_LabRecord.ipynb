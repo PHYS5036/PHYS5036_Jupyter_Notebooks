{
 "cells": [
  {
   "cell_type": "markdown",
   "metadata": {},
   "source": [
    "# Example of using Markdown cells for lab record keeping\n",
    "## Section One: A Very Basic Introduction\n",
    "**Date**: 08/10/20\n",
    "\n",
    "**Name**: My Name\n",
    "\n",
    "**Aims**: To make the reader aware of how a Jupyter notebook can be enhanced and kept as a lab record through the use of markdown cells.\n",
    "\n",
    "<font color='red'>Double click on this cell to edit it and see how it is formatted.</font>\n",
    "\n",
    "\n",
    "This is an example of text written in a *Markdown* cell rather than in a *Code* cell. You can select the type of cell (e.g. either markdown or code) using the drop down menu at the top of the notebook.\n",
    "\n",
    "You can make a list using hyphens:\n",
    "- item number one;\n",
    "- item number two.\n",
    "\n",
    "If you want to write an equation you can use typical Latex commands, which you can find more information on by googling e.g. Latex mathematics or Latex equations (if you are not already familiar with this). For example:\n",
    "\n",
    "\\begin{equation}\n",
    "E^{2} = p^{2}c^{2} + m^{2}c^{4}\n",
    "\\end{equation}\n",
    "\n",
    "And if you want to include a picture, e.g. diagram of a set up, you can include a picture like this:\n",
    "<img src=\"./pics/physics.jpeg\" alt=\"Drawing\" style=\"width: 400px;\"/>\n",
    "\n",
    "Note that the image is located in the folder called \"pics\" and I have to include this part of the path so that my notebook can find the image..\n",
    "\n",
    "The next part of the notebook imports the relevant libraries needed to execute the code."
   ]
  },
  {
   "cell_type": "code",
   "execution_count": 13,
   "metadata": {},
   "outputs": [],
   "source": [
    "# import useful modules\n",
    "\n",
    "import math                                     # This will import math module\n",
    "import matplotlib.pyplot as plt                 # This will import plotting module\n",
    "import numpy as np\n",
    "import pylab as plb\n",
    "from scipy.optimize import curve_fit\n",
    "from scipy import asarray as ar\n",
    "from numpy import exp"
   ]
  },
  {
   "cell_type": "markdown",
   "metadata": {},
   "source": [
    "# Method and Analysis\n",
    "\n",
    "In general for all parts of the experiment the pseudo-data which was plotted in graphs using the code below. The data was collected using the set up shown in the picture above. For analysis the graphs of Y against X were used to determine the values."
   ]
  },
  {
   "cell_type": "code",
   "execution_count": 14,
   "metadata": {},
   "outputs": [
    {
     "data": {
      "text/plain": [
       "[<matplotlib.lines.Line2D at 0x7f0266c73340>]"
      ]
     },
     "execution_count": 14,
     "metadata": {},
     "output_type": "execute_result"
    },
    {
     "data": {
      "image/png": "[encoded data removed]",
      "text/plain": [
       "<Figure size 576x432 with 1 Axes>"
      ]
     },
     "metadata": {
      "needs_background": "light"
     },
     "output_type": "display_data"
    }
   ],
   "source": [
    "# define variables and values for data\n",
    "\n",
    "xvalue = [1.0,2.0,3.0,4.0,5.5,6.4,7.3,8.2,9.1,10.0]             # list of x-values to be plotted\n",
    "yvalue = [50.3,20.5,18.0,22.1,23.3,70.2,20.1,20.5,0.0,0.0]      # list of y-values to be plotted \n",
    "\n",
    "datapoints=len(yvalue)                                          # calculate number of data points\n",
    "\n",
    "# Plot the data\n",
    "\n",
    "figuretitle   = 'Graph of y vs x'                      # set title for the graph\n",
    "xlabeltext    = \"Quantity x (units)\"                   # set x-axis label\n",
    "ylabeltext    = \"Quantity y (units)\"                   # set y-axis label\n",
    "plt.xscale('linear')                                   # choose 'log' or 'linear' for xscale\n",
    "plt.yscale('linear')                                   # choose 'log' or 'linear' for yscale\n",
    "plt.rcParams['font.family'] = 'DejaVu Sans'            # set font style for labels \n",
    "plt.rcParams[\"figure.figsize\"] = (8,6)                 # set figure size (x,y) in inches\n",
    "\n",
    "# select plotting symbols\n",
    "\n",
    "symbol='g.'            # choose colour and symbol for data points ('r.', 'go', 'bD', etc.)\n",
    "\n",
    "# find minimum and maximum x- and y-values in the data to be plotted\n",
    "\n",
    "xcountsmin=min(xvalue)\n",
    "xcountsmax=max(xvalue)\n",
    "ycountsmin=min(yvalue)\n",
    "ycountsmax=max(yvalue)\n",
    "\n",
    "# set minimum and maximum scales for x- and y-axes\n",
    "\n",
    "xplotmin = xcountsmin*0.1       # set non-zero value to avoid error if logarithmic y-axis chosen\n",
    "xplotmax = xcountsmax + 1\n",
    "yplotmin = 0.1                  # set non-zero value to avoid error if logarithmic y-axis chosen\n",
    "yplotmax = ycountsmax*1.1\n",
    "\n",
    "# plot and save the graph\n",
    "\n",
    "plt.axis([xplotmin,xplotmax,yplotmin,yplotmax])                                     # plot the graph axes\n",
    "plt.xlabel(xlabeltext,fontsize=20)                                                  # add label for x-axis\n",
    "plt.ylabel(ylabeltext,fontsize=20)                                                  # add label for y-axis\n",
    "plt.title(figuretitle, fontsize=20)                                                 # add figure title\n",
    "plt.plot(xvalue,yvalue)"
   ]
  },
  {
   "cell_type": "markdown",
   "metadata": {},
   "source": [
    "# Results\n",
    "\n",
    "Here I might put the results, by importing images e.g."
   ]
  },
  {
   "cell_type": "markdown",
   "metadata": {},
   "source": [
    "# Discussion\n",
    "\n",
    "For the analysis the values were plotted and in this instance, no fit was added. The plot shows some interesting results. The extracted value and its error lie within the accepted value in literature."
   ]
  },
  {
   "cell_type": "markdown",
   "metadata": {},
   "source": [
    "# Conclusions\n",
    "The plot was as expected but possible future improvements for the experiment would be to take more data and perform a more in-depth analysis and error analysis.\n",
    "\n",
    "If I want to save this as a pdf or html page, I go to file on the very top menu of this page and select \"Export notebook as\" and select my desired format."
   ]
  },
  {
   "cell_type": "markdown",
   "metadata": {},
   "source": [
    "# References\n",
    "\n",
    "Here I might put a reference to a nuclear database or a textbook"
   ]
  },
  {
   "cell_type": "code",
   "execution_count": null,
   "metadata": {},
   "outputs": [],
   "source": []
  }
 ],
 "metadata": {
  "kernelspec": {
   "display_name": "Default",
   "language": "python",
   "name": "python3"
  },
  "language_info": {
   "codemirror_mode": {
    "name": "ipython",
    "version": 3
   },
   "file_extension": ".py",
   "mimetype": "text/x-python",
   "name": "python",
   "nbconvert_exporter": "python",
   "pygments_lexer": "ipython3",
   "version": "3.8.0"
  }
 },
 "nbformat": 4,
 "nbformat_minor": 4
}
